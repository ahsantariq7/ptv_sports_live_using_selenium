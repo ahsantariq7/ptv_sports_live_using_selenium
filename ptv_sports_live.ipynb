{
 "cells": [
  {
   "cell_type": "code",
   "execution_count": 1,
   "id": "bd233163-b2bb-42ac-8949-9b466b60b4eb",
   "metadata": {},
   "outputs": [],
   "source": [
    "from selenium import webdriver\n",
    "import time\n",
    "from selenium.webdriver.firefox.service import Service as FirefoxService\n",
    "from webdriver_manager.firefox import GeckoDriverManager\n",
    "from selenium.webdriver.common.by import By\n",
    "from selenium.webdriver.support import expected_conditions as EC\n",
    "from selenium.webdriver.support.ui import WebDriverWait"
   ]
  },
  {
   "cell_type": "code",
   "execution_count": 2,
   "id": "ac0b6112-0ef1-4386-acab-761e8ff32ec9",
   "metadata": {},
   "outputs": [],
   "source": [
    "options = webdriver.ChromeOptions()\n",
    "#options.add_argument(\"--headless\")\n",
    "options.add_argument('--no-sandbox')\n",
    "options.add_argument(\"--log-level=3\")\n",
    "mobile_emulation = {\n",
    "        \"userAgent\": \"Mozilla/5.0 (Linux; Android 4.2.1; en-us; Nexus 5 Build/JOP40D) AppleWebKit/535.19 (KHTML, like Gecko) Chrome/90.0.1025.166 Mobile Safari/535.19\"}\n",
    "options.add_experimental_option(\"mobileEmulation\", mobile_emulation)"
   ]
  },
  {
   "cell_type": "code",
   "execution_count": null,
   "id": "c0430d56-74ea-44e4-9cd0-32115e4a4f23",
   "metadata": {},
   "outputs": [
    {
     "name": "stderr",
     "output_type": "stream",
     "text": [
      "/tmp/ipykernel_9552/4155801564.py:1: DeprecationWarning: Firefox will soon stop logging to geckodriver.log by default; Specify desired logs with log_output\n",
      "  driver = webdriver.Firefox(service=FirefoxService(GeckoDriverManager().install()))\n"
     ]
    }
   ],
   "source": [
    "driver = webdriver.Firefox(service=FirefoxService(GeckoDriverManager().install()))\n",
    "driver.get(\"https://www.ptvsportstv.com.pk/\")"
   ]
  },
  {
   "cell_type": "code",
   "execution_count": null,
   "id": "895aee72-1c04-4cea-9037-94827c77b4a9",
   "metadata": {},
   "outputs": [],
   "source": []
  }
 ],
 "metadata": {
  "kernelspec": {
   "display_name": "Python 3 (ipykernel)",
   "language": "python",
   "name": "python3"
  },
  "language_info": {
   "codemirror_mode": {
    "name": "ipython",
    "version": 3
   },
   "file_extension": ".py",
   "mimetype": "text/x-python",
   "name": "python",
   "nbconvert_exporter": "python",
   "pygments_lexer": "ipython3",
   "version": "3.11.2"
  },
  "widgets": {
   "application/vnd.jupyter.widget-state+json": {
    "state": {},
    "version_major": 2,
    "version_minor": 0
   }
  }
 },
 "nbformat": 4,
 "nbformat_minor": 5
}
